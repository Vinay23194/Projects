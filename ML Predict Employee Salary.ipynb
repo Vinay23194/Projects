{
 "cells": [
  {
   "cell_type": "code",
   "execution_count": 252,
   "metadata": {},
   "outputs": [],
   "source": [
    "import pandas as pd\n",
    "import numpy as np\n",
    "import seaborn as sns\n",
    "import warnings\n",
    "warnings.filterwarnings('ignore')"
   ]
  },
  {
   "cell_type": "code",
   "execution_count": 253,
   "metadata": {},
   "outputs": [],
   "source": [
    "df=pd.read_csv('emp_salary.csv')"
   ]
  },
  {
   "cell_type": "code",
   "execution_count": 254,
   "metadata": {},
   "outputs": [
    {
     "data": {
      "text/html": [
       "<div>\n",
       "<style scoped>\n",
       "    .dataframe tbody tr th:only-of-type {\n",
       "        vertical-align: middle;\n",
       "    }\n",
       "\n",
       "    .dataframe tbody tr th {\n",
       "        vertical-align: top;\n",
       "    }\n",
       "\n",
       "    .dataframe thead th {\n",
       "        text-align: right;\n",
       "    }\n",
       "</style>\n",
       "<table border=\"1\" class=\"dataframe\">\n",
       "  <thead>\n",
       "    <tr style=\"text-align: right;\">\n",
       "      <th></th>\n",
       "      <th>SNo</th>\n",
       "      <th>Name</th>\n",
       "      <th>Age</th>\n",
       "      <th>City</th>\n",
       "      <th>Country</th>\n",
       "      <th>Salary</th>\n",
       "    </tr>\n",
       "  </thead>\n",
       "  <tbody>\n",
       "    <tr>\n",
       "      <th>0</th>\n",
       "      <td>1</td>\n",
       "      <td>Tom</td>\n",
       "      <td>28.0</td>\n",
       "      <td>Toronto</td>\n",
       "      <td>Canada</td>\n",
       "      <td>20000.0</td>\n",
       "    </tr>\n",
       "    <tr>\n",
       "      <th>1</th>\n",
       "      <td>2</td>\n",
       "      <td>Lee</td>\n",
       "      <td>31.0</td>\n",
       "      <td>Edmonto</td>\n",
       "      <td>Canada</td>\n",
       "      <td>3900.0</td>\n",
       "    </tr>\n",
       "    <tr>\n",
       "      <th>2</th>\n",
       "      <td>3</td>\n",
       "      <td>Dave</td>\n",
       "      <td>34.0</td>\n",
       "      <td>Toronto</td>\n",
       "      <td>Canada</td>\n",
       "      <td>8000.0</td>\n",
       "    </tr>\n",
       "    <tr>\n",
       "      <th>3</th>\n",
       "      <td>4</td>\n",
       "      <td>Anik</td>\n",
       "      <td>26.0</td>\n",
       "      <td>HongKong</td>\n",
       "      <td>Asia</td>\n",
       "      <td>66672.0</td>\n",
       "    </tr>\n",
       "    <tr>\n",
       "      <th>4</th>\n",
       "      <td>5</td>\n",
       "      <td>kamal</td>\n",
       "      <td>30.0</td>\n",
       "      <td>NaN</td>\n",
       "      <td>America</td>\n",
       "      <td>NaN</td>\n",
       "    </tr>\n",
       "  </tbody>\n",
       "</table>\n",
       "</div>"
      ],
      "text/plain": [
       "   SNo   Name   Age      City  Country   Salary\n",
       "0    1    Tom  28.0   Toronto   Canada  20000.0\n",
       "1    2    Lee  31.0   Edmonto   Canada   3900.0\n",
       "2    3   Dave  34.0   Toronto   Canada   8000.0\n",
       "3    4   Anik  26.0  HongKong     Asia  66672.0\n",
       "4    5  kamal  30.0       NaN  America      NaN"
      ]
     },
     "execution_count": 254,
     "metadata": {},
     "output_type": "execute_result"
    }
   ],
   "source": [
    "df.head()"
   ]
  },
  {
   "cell_type": "code",
   "execution_count": null,
   "metadata": {},
   "outputs": [],
   "source": []
  },
  {
   "cell_type": "code",
   "execution_count": 255,
   "metadata": {},
   "outputs": [
    {
     "data": {
      "text/plain": [
       "Index(['SNo', 'Name', 'Age', 'City', 'Country', 'Salary'], dtype='object')"
      ]
     },
     "execution_count": 255,
     "metadata": {},
     "output_type": "execute_result"
    }
   ],
   "source": [
    "df.columns"
   ]
  },
  {
   "cell_type": "code",
   "execution_count": 256,
   "metadata": {},
   "outputs": [
    {
     "data": {
      "text/plain": [
       "SNo          int64\n",
       "Name        object\n",
       "Age        float64\n",
       "City        object\n",
       "Country     object\n",
       "Salary     float64\n",
       "dtype: object"
      ]
     },
     "execution_count": 256,
     "metadata": {},
     "output_type": "execute_result"
    }
   ],
   "source": [
    "df.dtypes"
   ]
  },
  {
   "cell_type": "code",
   "execution_count": 257,
   "metadata": {},
   "outputs": [
    {
     "data": {
      "text/plain": [
       "(22, 6)"
      ]
     },
     "execution_count": 257,
     "metadata": {},
     "output_type": "execute_result"
    }
   ],
   "source": [
    "df.shape"
   ]
  },
  {
   "cell_type": "code",
   "execution_count": 258,
   "metadata": {},
   "outputs": [
    {
     "data": {
      "image/png": "[encoded data removed]",
      "text/plain": [
       "<Figure size 432x288 with 1 Axes>"
      ]
     },
     "metadata": {},
     "output_type": "display_data"
    }
   ],
   "source": [
    "import matplotlib.pyplot as plt\n",
    "import seaborn as sns\n",
    "sns.lineplot(x=df['Country'],y=df['Salary'], data=df)\n",
    "plt.show()"
   ]
  },
  {
   "cell_type": "code",
   "execution_count": 259,
   "metadata": {},
   "outputs": [
    {
     "data": {
      "image/png": "[encoded data removed]",
      "text/plain": [
       "<Figure size 432x288 with 1 Axes>"
      ]
     },
     "metadata": {},
     "output_type": "display_data"
    }
   ],
   "source": [
    "sns.lineplot(x=df['Age'],y=df['Salary'], data=df)\n",
    "plt.show()"
   ]
  },
  {
   "cell_type": "code",
   "execution_count": 260,
   "metadata": {},
   "outputs": [
    {
     "data": {
      "image/png": "[encoded data removed]",
      "text/plain": [
       "<Figure size 432x288 with 1 Axes>"
      ]
     },
     "metadata": {},
     "output_type": "display_data"
    }
   ],
   "source": [
    "sns.violinplot(x='Salary', data=df)\n",
    "plt.show()"
   ]
  },
  {
   "cell_type": "code",
   "execution_count": 261,
   "metadata": {},
   "outputs": [
    {
     "data": {
      "image/png": "[encoded data removed]",
      "text/plain": [
       "<Figure size 432x288 with 1 Axes>"
      ]
     },
     "metadata": {},
     "output_type": "display_data"
    }
   ],
   "source": [
    "sns.set(style='whitegrid')\n",
    "ax=sns.stripplot(x='Country',y='Age', data=df)\n",
    "plt.show()"
   ]
  },
  {
   "cell_type": "code",
   "execution_count": 262,
   "metadata": {},
   "outputs": [
    {
     "data": {
      "text/plain": [
       "<matplotlib.axes._subplots.AxesSubplot at 0x12782f88>"
      ]
     },
     "execution_count": 262,
     "metadata": {},
     "output_type": "execute_result"
    },
    {
     "data": {
      "image/png": "[encoded data removed]",
      "text/plain": [
       "<Figure size 432x288 with 1 Axes>"
      ]
     },
     "metadata": {},
     "output_type": "display_data"
    }
   ],
   "source": [
    "df.Age.hist(bins=5)"
   ]
  },
  {
   "cell_type": "markdown",
   "metadata": {},
   "source": [
    "I want to use the Heatmap for further EDA analysis.\n",
    "\n",
    "But to perform the heatmap i need to clear the all NA values from the dataset"
   ]
  },
  {
   "cell_type": "code",
   "execution_count": 263,
   "metadata": {},
   "outputs": [
    {
     "data": {
      "text/plain": [
       "SNo        0\n",
       "Name       0\n",
       "Age        3\n",
       "City       3\n",
       "Country    0\n",
       "Salary     3\n",
       "dtype: int64"
      ]
     },
     "execution_count": 263,
     "metadata": {},
     "output_type": "execute_result"
    }
   ],
   "source": [
    "df.isnull().sum()\n",
    "# Due to short short dataset, we fill the NA values with Mean, Median & Mode. "
   ]
  },
  {
   "cell_type": "raw",
   "metadata": {},
   "source": [
    "#I have fill the na values with below method but with this i have got negetive r2 score. so now i delete these values.\n",
    "#col=df[['Age','Salary']]\n",
    "#for i in col:\n",
    " #   df[i].fillna(df[i].mean(),inplace=True)"
   ]
  },
  {
   "cell_type": "raw",
   "metadata": {},
   "source": [
    "#df['City'].mode()"
   ]
  },
  {
   "cell_type": "raw",
   "metadata": {},
   "source": [
    "#df['City'].fillna('newyork', inplace=True)"
   ]
  },
  {
   "cell_type": "code",
   "execution_count": 264,
   "metadata": {},
   "outputs": [],
   "source": [
    "df.dropna(inplace=True)"
   ]
  },
  {
   "cell_type": "code",
   "execution_count": 265,
   "metadata": {},
   "outputs": [
    {
     "data": {
      "text/plain": [
       "SNo        0\n",
       "Name       0\n",
       "Age        0\n",
       "City       0\n",
       "Country    0\n",
       "Salary     0\n",
       "dtype: int64"
      ]
     },
     "execution_count": 265,
     "metadata": {},
     "output_type": "execute_result"
    }
   ],
   "source": [
    "df.isnull().sum()"
   ]
  },
  {
   "cell_type": "code",
   "execution_count": 266,
   "metadata": {},
   "outputs": [],
   "source": [
    "# To Use the heatmap properly, we have to conver the all sring values in numeric values\n",
    "\n",
    "from sklearn.preprocessing import LabelEncoder\n",
    "colum=df[['Name','City','Country']]\n",
    "lbl = LabelEncoder()\n",
    "for col in colum:\n",
    "    df[col]=lbl.fit_transform(df[col]) "
   ]
  },
  {
   "cell_type": "code",
   "execution_count": 267,
   "metadata": {},
   "outputs": [
    {
     "data": {
      "text/plain": [
       "<seaborn.axisgrid.PairGrid at 0xe3a3d48>"
      ]
     },
     "execution_count": 267,
     "metadata": {},
     "output_type": "execute_result"
    },
    {
     "data": {
      "image/png": "[encoded data removed]",
      "text/plain": [
       "<Figure size 1080x1080 with 42 Axes>"
      ]
     },
     "metadata": {},
     "output_type": "display_data"
    }
   ],
   "source": [
    "sns.pairplot(df)"
   ]
  },
  {
   "cell_type": "code",
   "execution_count": 268,
   "metadata": {},
   "outputs": [
    {
     "data": {
      "text/plain": [
       "<matplotlib.axes._subplots.AxesSubplot at 0x1372b388>"
      ]
     },
     "execution_count": 268,
     "metadata": {},
     "output_type": "execute_result"
    },
    {
     "data": {
      "image/png": "[encoded data removed]",
      "text/plain": [
       "<Figure size 432x288 with 2 Axes>"
      ]
     },
     "metadata": {},
     "output_type": "display_data"
    }
   ],
   "source": [
    "sns.heatmap(df.corr())   "
   ]
  },
  {
   "cell_type": "markdown",
   "metadata": {},
   "source": [
    "Highlights :-\n",
    "    1. Asia hold the highest salaried employees.\n",
    "    2. City & Age are the two major impactable components towards Salary.\n",
    "    3. Age have the direct relation with salary. Means Salary is being increased as well as the age increased.\n",
    "    4. Mostly people earned the salary between 20-30k.\n",
    "    5. America have most aged people in his country"
   ]
  },
  {
   "cell_type": "code",
   "execution_count": 269,
   "metadata": {},
   "outputs": [
    {
     "data": {
      "text/plain": [
       "SNo        0.093151\n",
       "Name       0.098597\n",
       "Age        0.905716\n",
       "City      -0.562357\n",
       "Country   -0.020726\n",
       "Salary     0.142454\n",
       "dtype: float64"
      ]
     },
     "execution_count": 269,
     "metadata": {},
     "output_type": "execute_result"
    }
   ],
   "source": [
    "df.skew()"
   ]
  },
  {
   "cell_type": "code",
   "execution_count": 270,
   "metadata": {},
   "outputs": [
    {
     "data": {
      "text/plain": [
       "array([[1.4359717 , 0.81802182, 0.60618972, 0.9129501 , 1.01600102,\n",
       "        0.66772444],\n",
       "       [1.29538706, 0.06292476, 0.20206324, 0.73625008, 1.01600102,\n",
       "        1.37814335],\n",
       "       [1.15480242, 0.94387133, 0.20206324, 0.9129501 , 1.01600102,\n",
       "        1.19722921],\n",
       "       [1.01421777, 1.23752019, 0.87560737, 0.08835001, 0.12700013,\n",
       "        1.39169615],\n",
       "       [0.59246385, 0.52437296, 1.41444268, 1.56085017, 0.76200076,\n",
       "        1.18399159],\n",
       "       [0.45187921, 0.2307241 , 0.74089855, 0.50065005, 0.12700013,\n",
       "        0.86192662],\n",
       "       [0.31129456, 1.11167068, 2.35740446, 1.32525014, 0.76200076,\n",
       "        1.43555679],\n",
       "       [0.11045936, 1.23752019, 0.87560737, 0.08835001, 0.12700013,\n",
       "        1.39169615],\n",
       "       [0.39162865, 0.65022247, 1.41444268, 0.08835001, 0.12700013,\n",
       "        0.22616158],\n",
       "       [0.67279793, 0.2307241 , 0.74089855, 0.50065005, 0.12700013,\n",
       "        0.86192662],\n",
       "       [0.95396721, 1.6989684 , 0.74089855, 1.32525014, 0.76200076,\n",
       "        1.15804586],\n",
       "       [1.2351365 , 1.53116905, 0.20206324, 1.14855012, 1.65100165,\n",
       "        0.03090669],\n",
       "       [1.37572114, 1.40531954, 0.06735441, 1.97315021, 1.65100165,\n",
       "        0.0264059 ],\n",
       "       [1.51630578, 0.35657361, 0.87560737, 0.32395004, 1.90500191,\n",
       "        0.07419371]])"
      ]
     },
     "execution_count": 270,
     "metadata": {},
     "output_type": "execute_result"
    }
   ],
   "source": [
    "# removing the outliers\n",
    "import numpy as np\n",
    "from scipy.stats import zscore\n",
    "z=np.abs(zscore(df))\n",
    "z"
   ]
  },
  {
   "cell_type": "code",
   "execution_count": 271,
   "metadata": {},
   "outputs": [
    {
     "name": "stdout",
     "output_type": "stream",
     "text": [
      "(array([], dtype=int64), array([], dtype=int64))\n"
     ]
    }
   ],
   "source": [
    "threshold=3\n",
    "print(np.where(z>3))"
   ]
  },
  {
   "cell_type": "code",
   "execution_count": 272,
   "metadata": {},
   "outputs": [],
   "source": [
    "data=df[(z<3).all (axis=1)]"
   ]
  },
  {
   "cell_type": "code",
   "execution_count": 273,
   "metadata": {},
   "outputs": [
    {
     "data": {
      "text/plain": [
       "(14, 6)"
      ]
     },
     "execution_count": 273,
     "metadata": {},
     "output_type": "execute_result"
    }
   ],
   "source": [
    "data.shape"
   ]
  },
  {
   "cell_type": "code",
   "execution_count": 274,
   "metadata": {},
   "outputs": [],
   "source": [
    "from sklearn.model_selection import train_test_split\n",
    "from sklearn.metrics import mean_squared_error,mean_absolute_error \n",
    "from sklearn.metrics import r2_score\n",
    "from sklearn import linear_model\n",
    "from sklearn.linear_model import Lasso,Ridge,ElasticNet"
   ]
  },
  {
   "cell_type": "code",
   "execution_count": 275,
   "metadata": {},
   "outputs": [
    {
     "data": {
      "text/html": [
       "<div>\n",
       "<style scoped>\n",
       "    .dataframe tbody tr th:only-of-type {\n",
       "        vertical-align: middle;\n",
       "    }\n",
       "\n",
       "    .dataframe tbody tr th {\n",
       "        vertical-align: top;\n",
       "    }\n",
       "\n",
       "    .dataframe thead th {\n",
       "        text-align: right;\n",
       "    }\n",
       "</style>\n",
       "<table border=\"1\" class=\"dataframe\">\n",
       "  <thead>\n",
       "    <tr style=\"text-align: right;\">\n",
       "      <th></th>\n",
       "      <th>SNo</th>\n",
       "      <th>Name</th>\n",
       "      <th>Age</th>\n",
       "      <th>City</th>\n",
       "      <th>Country</th>\n",
       "    </tr>\n",
       "  </thead>\n",
       "  <tbody>\n",
       "    <tr>\n",
       "      <th>0</th>\n",
       "      <td>1</td>\n",
       "      <td>8</td>\n",
       "      <td>28.0</td>\n",
       "      <td>7</td>\n",
       "      <td>3</td>\n",
       "    </tr>\n",
       "    <tr>\n",
       "      <th>1</th>\n",
       "      <td>2</td>\n",
       "      <td>5</td>\n",
       "      <td>31.0</td>\n",
       "      <td>3</td>\n",
       "      <td>3</td>\n",
       "    </tr>\n",
       "    <tr>\n",
       "      <th>2</th>\n",
       "      <td>3</td>\n",
       "      <td>2</td>\n",
       "      <td>34.0</td>\n",
       "      <td>7</td>\n",
       "      <td>3</td>\n",
       "    </tr>\n",
       "    <tr>\n",
       "      <th>3</th>\n",
       "      <td>4</td>\n",
       "      <td>1</td>\n",
       "      <td>26.0</td>\n",
       "      <td>5</td>\n",
       "      <td>2</td>\n",
       "    </tr>\n",
       "    <tr>\n",
       "      <th>6</th>\n",
       "      <td>7</td>\n",
       "      <td>7</td>\n",
       "      <td>43.0</td>\n",
       "      <td>1</td>\n",
       "      <td>1</td>\n",
       "    </tr>\n",
       "    <tr>\n",
       "      <th>7</th>\n",
       "      <td>8</td>\n",
       "      <td>6</td>\n",
       "      <td>38.0</td>\n",
       "      <td>6</td>\n",
       "      <td>2</td>\n",
       "    </tr>\n",
       "    <tr>\n",
       "      <th>8</th>\n",
       "      <td>9</td>\n",
       "      <td>9</td>\n",
       "      <td>50.0</td>\n",
       "      <td>8</td>\n",
       "      <td>1</td>\n",
       "    </tr>\n",
       "    <tr>\n",
       "      <th>10</th>\n",
       "      <td>12</td>\n",
       "      <td>1</td>\n",
       "      <td>26.0</td>\n",
       "      <td>5</td>\n",
       "      <td>2</td>\n",
       "    </tr>\n",
       "    <tr>\n",
       "      <th>12</th>\n",
       "      <td>14</td>\n",
       "      <td>3</td>\n",
       "      <td>22.0</td>\n",
       "      <td>5</td>\n",
       "      <td>2</td>\n",
       "    </tr>\n",
       "    <tr>\n",
       "      <th>14</th>\n",
       "      <td>16</td>\n",
       "      <td>6</td>\n",
       "      <td>38.0</td>\n",
       "      <td>6</td>\n",
       "      <td>2</td>\n",
       "    </tr>\n",
       "    <tr>\n",
       "      <th>16</th>\n",
       "      <td>18</td>\n",
       "      <td>11</td>\n",
       "      <td>27.0</td>\n",
       "      <td>8</td>\n",
       "      <td>1</td>\n",
       "    </tr>\n",
       "    <tr>\n",
       "      <th>18</th>\n",
       "      <td>20</td>\n",
       "      <td>0</td>\n",
       "      <td>34.0</td>\n",
       "      <td>2</td>\n",
       "      <td>0</td>\n",
       "    </tr>\n",
       "    <tr>\n",
       "      <th>19</th>\n",
       "      <td>21</td>\n",
       "      <td>10</td>\n",
       "      <td>32.0</td>\n",
       "      <td>0</td>\n",
       "      <td>0</td>\n",
       "    </tr>\n",
       "    <tr>\n",
       "      <th>20</th>\n",
       "      <td>22</td>\n",
       "      <td>4</td>\n",
       "      <td>26.0</td>\n",
       "      <td>4</td>\n",
       "      <td>4</td>\n",
       "    </tr>\n",
       "  </tbody>\n",
       "</table>\n",
       "</div>"
      ],
      "text/plain": [
       "    SNo  Name   Age  City  Country\n",
       "0     1     8  28.0     7        3\n",
       "1     2     5  31.0     3        3\n",
       "2     3     2  34.0     7        3\n",
       "3     4     1  26.0     5        2\n",
       "6     7     7  43.0     1        1\n",
       "7     8     6  38.0     6        2\n",
       "8     9     9  50.0     8        1\n",
       "10   12     1  26.0     5        2\n",
       "12   14     3  22.0     5        2\n",
       "14   16     6  38.0     6        2\n",
       "16   18    11  27.0     8        1\n",
       "18   20     0  34.0     2        0\n",
       "19   21    10  32.0     0        0\n",
       "20   22     4  26.0     4        4"
      ]
     },
     "execution_count": 275,
     "metadata": {},
     "output_type": "execute_result"
    }
   ],
   "source": [
    "x=df.drop(['Salary'], axis=1)\n",
    "x"
   ]
  },
  {
   "cell_type": "code",
   "execution_count": 276,
   "metadata": {},
   "outputs": [
    {
     "data": {
      "text/plain": [
       "0     20000.0\n",
       "1      3900.0\n",
       "2      8000.0\n",
       "3     66672.0\n",
       "6      8300.0\n",
       "7     54666.0\n",
       "8     67666.0\n",
       "10    66672.0\n",
       "12    30007.0\n",
       "14    54666.0\n",
       "16     8888.0\n",
       "18    34432.0\n",
       "19    34534.0\n",
       "20    33451.0\n",
       "Name: Salary, dtype: float64"
      ]
     },
     "execution_count": 276,
     "metadata": {},
     "output_type": "execute_result"
    }
   ],
   "source": [
    "y=df['Salary']\n",
    "y"
   ]
  },
  {
   "cell_type": "code",
   "execution_count": 277,
   "metadata": {},
   "outputs": [],
   "source": [
    "# PCA (Princple Component Analysis)\n",
    "from sklearn.decomposition import PCA\n",
    "pca=PCA(n_components=2)\n",
    "pca.fit(x)\n",
    "x_pca=pca.transform(x)"
   ]
  },
  {
   "cell_type": "code",
   "execution_count": 278,
   "metadata": {},
   "outputs": [
    {
     "data": {
      "text/plain": [
       "(14, 5)"
      ]
     },
     "execution_count": 278,
     "metadata": {},
     "output_type": "execute_result"
    }
   ],
   "source": [
    "x.shape"
   ]
  },
  {
   "cell_type": "code",
   "execution_count": 279,
   "metadata": {},
   "outputs": [
    {
     "data": {
      "text/plain": [
       "(14, 2)"
      ]
     },
     "execution_count": 279,
     "metadata": {},
     "output_type": "execute_result"
    }
   ],
   "source": [
    "x_pca.shape"
   ]
  },
  {
   "cell_type": "code",
   "execution_count": 280,
   "metadata": {},
   "outputs": [
    {
     "data": {
      "text/plain": [
       "(14,)"
      ]
     },
     "execution_count": 280,
     "metadata": {},
     "output_type": "execute_result"
    }
   ],
   "source": [
    "y.shape"
   ]
  },
  {
   "cell_type": "code",
   "execution_count": 281,
   "metadata": {},
   "outputs": [
    {
     "data": {
      "text/plain": [
       "(14, 1)"
      ]
     },
     "execution_count": 281,
     "metadata": {},
     "output_type": "execute_result"
    }
   ],
   "source": [
    "y_data=np.array(y)\n",
    "y=y_data.reshape(-1,1)\n",
    "y.shape"
   ]
  },
  {
   "cell_type": "code",
   "execution_count": 282,
   "metadata": {},
   "outputs": [
    {
     "name": "stdout",
     "output_type": "stream",
     "text": [
      "r2_score corresponding to random state:  42 is:  -15.798322729288277\n",
      "r2_score corresponding to random state:  43 is:  -1.9623570237687864\n",
      "r2_score corresponding to random state:  44 is:  -7.772695813965601\n",
      "r2_score corresponding to random state:  45 is:  -8.094466211109077\n",
      "r2_score corresponding to random state:  46 is:  -0.837407576100857\n",
      "r2_score corresponding to random state:  47 is:  -1.2100784455862565\n",
      "r2_score corresponding to random state:  48 is:  -10.325059197678357\n",
      "r2_score corresponding to random state:  49 is:  -2.1053249406469114\n",
      "r2_score corresponding to random state:  50 is:  -3.684161294412031\n",
      "r2_score corresponding to random state:  51 is:  -0.5849078359969879\n",
      "r2_score corresponding to random state:  52 is:  0.5109941565615135\n",
      "r2_score corresponding to random state:  53 is:  -6.60511240029966\n",
      "r2_score corresponding to random state:  54 is:  -0.31762031831708115\n",
      "r2_score corresponding to random state:  55 is:  -66.16532602415182\n",
      "r2_score corresponding to random state:  56 is:  -444.3626704223548\n",
      "r2_score corresponding to random state:  57 is:  -0.3176203183170814\n",
      "r2_score corresponding to random state:  58 is:  -264.1218432097062\n",
      "r2_score corresponding to random state:  59 is:  -13.882883119552426\n",
      "r2_score corresponding to random state:  60 is:  0.1581641504923461\n",
      "r2_score corresponding to random state:  61 is:  -7.2915645347467475\n",
      "r2_score corresponding to random state:  62 is:  -43.478024159384596\n",
      "r2_score corresponding to random state:  63 is:  -1.6443084585363552\n",
      "r2_score corresponding to random state:  64 is:  -18.567851773162715\n",
      "r2_score corresponding to random state:  65 is:  -19.56749274104537\n",
      "r2_score corresponding to random state:  66 is:  -0.8374075761008566\n",
      "r2_score corresponding to random state:  67 is:  -1.0775040667219882\n",
      "r2_score corresponding to random state:  68 is:  -2.6825728753612763\n",
      "r2_score corresponding to random state:  69 is:  -0.5849078359969879\n",
      "r2_score corresponding to random state:  70 is:  -8.499800502802323\n",
      "r2_score corresponding to random state:  71 is:  -49.16276470672874\n",
      "r2_score corresponding to random state:  72 is:  -28.59543355473491\n",
      "r2_score corresponding to random state:  73 is:  0.1689550241573049\n",
      "r2_score corresponding to random state:  74 is:  -1.2888454703617738\n",
      "r2_score corresponding to random state:  75 is:  -4.294379608722124\n",
      "r2_score corresponding to random state:  76 is:  -4.46312643931976\n",
      "r2_score corresponding to random state:  77 is:  -0.6401966219138235\n",
      "r2_score corresponding to random state:  78 is:  -10.085957979441343\n",
      "r2_score corresponding to random state:  79 is:  -10.642281460944819\n",
      "r2_score corresponding to random state:  80 is:  -0.22186338894124646\n",
      "r2_score corresponding to random state:  81 is:  0.23270072599340652\n",
      "r2_score corresponding to random state:  82 is:  -3.092567118548117\n",
      "r2_score corresponding to random state:  83 is:  -1.6380442716440795\n",
      "r2_score corresponding to random state:  84 is:  -2.247310248795196\n",
      "r2_score corresponding to random state:  85 is:  -8.094466211109088\n",
      "r2_score corresponding to random state:  86 is:  -4.476306493516662\n",
      "r2_score corresponding to random state:  87 is:  -1.2318839752292998\n",
      "r2_score corresponding to random state:  88 is:  -9.73645592502031\n",
      "r2_score corresponding to random state:  89 is:  -17.528738143987557\n",
      "r2_score corresponding to random state:  90 is:  -0.8496773392518857\n",
      "r2_score corresponding to random state:  91 is:  -1.434731486892698\n",
      "r2_score corresponding to random state:  92 is:  -4.294379608722126\n",
      "r2_score corresponding to random state:  93 is:  -0.43432084445777286\n",
      "r2_score corresponding to random state:  94 is:  -0.4559112562887637\n",
      "r2_score corresponding to random state:  95 is:  -2.325396829370819\n",
      "r2_score corresponding to random state:  96 is:  -15.362187924069676\n",
      "r2_score corresponding to random state:  97 is:  -0.6289801364042025\n",
      "r2_score corresponding to random state:  98 is:  0.30049938587966885\n",
      "r2_score corresponding to random state:  99 is:  -1.067748127716976\n",
      "r2_score corresponding to random state:  100 is:  -10.325059197678351\n",
      "\n",
      "\n",
      "Max r2 score corresponding to: 52 is:  0.5109941565615135\n"
     ]
    }
   ],
   "source": [
    "max_r_score=0\n",
    "for r_state in range(42,101):\n",
    "    x_train, x_test,y_train, y_test=train_test_split(x,y,random_state=r_state,test_size=0.20)\n",
    "    regr=linear_model.LinearRegression()\n",
    "    regr.fit(x_train,y_train)\n",
    "    y_pred=regr.predict(x_test)\n",
    "    r2_scr=r2_score(y_test,y_pred)\n",
    "    print('r2_score corresponding to random state: ',r_state,'is: ',r2_scr)\n",
    "    if r2_scr>max_r_score:\n",
    "        max_r_score=r2_scr\n",
    "        final_r_state=r_state\n",
    "print()\n",
    "print()\n",
    "print('Max r2 score corresponding to:',final_r_state,'is: ',max_r_score)"
   ]
  },
  {
   "cell_type": "code",
   "execution_count": 283,
   "metadata": {},
   "outputs": [
    {
     "data": {
      "text/plain": [
       "-992.0582772691374"
      ]
     },
     "execution_count": 283,
     "metadata": {},
     "output_type": "execute_result"
    }
   ],
   "source": [
    "from sklearn.model_selection import cross_val_score\n",
    "cross_val_score(linear_model.LinearRegression(),x,y,cv=5,scoring='r2').mean()"
   ]
  },
  {
   "cell_type": "code",
   "execution_count": 284,
   "metadata": {},
   "outputs": [
    {
     "name": "stdout",
     "output_type": "stream",
     "text": [
      "r2 score is:  -15.798322729288277\n",
      "Root_Mean_Squared_Error:  58274.59371128076\n"
     ]
    }
   ],
   "source": [
    "x_train, x_test,y_train, y_test=train_test_split(x,y,random_state=42,test_size=0.20)\n",
    "lr=linear_model.LinearRegression()\n",
    "lr.fit(x_train,y_train)\n",
    "y_pred=lr.predict(x_test)\n",
    "print(\"r2 score is: \",r2_score(y_test,y_pred))\n",
    "print(\"Root_Mean_Squared_Error: \",np.sqrt(mean_squared_error(y_test,y_pred)))"
   ]
  },
  {
   "cell_type": "code",
   "execution_count": 285,
   "metadata": {},
   "outputs": [
    {
     "data": {
      "text/plain": [
       "-0.8353578888499853"
      ]
     },
     "execution_count": 285,
     "metadata": {},
     "output_type": "execute_result"
    }
   ],
   "source": [
    "lr.score(x,y)"
   ]
  },
  {
   "cell_type": "code",
   "execution_count": 286,
   "metadata": {},
   "outputs": [
    {
     "name": "stdout",
     "output_type": "stream",
     "text": [
      "{'alpha': 1}\n"
     ]
    }
   ],
   "source": [
    "from sklearn.model_selection import GridSearchCV\n",
    "alphabets={'alpha':[1,0.1,0.01,0.001,0.0001,0]}\n",
    "model=Ridge()\n",
    "grid=GridSearchCV(estimator=model, param_grid=alphabets)\n",
    "grid.fit(x,y)\n",
    "print(grid.best_params_)"
   ]
  },
  {
   "cell_type": "code",
   "execution_count": 287,
   "metadata": {},
   "outputs": [
    {
     "data": {
      "text/plain": [
       "0.2913702920317688"
      ]
     },
     "execution_count": 287,
     "metadata": {},
     "output_type": "execute_result"
    }
   ],
   "source": [
    "rd=Ridge(alpha=1)\n",
    "rd.fit(x,y)\n",
    "rd.score(x,y)"
   ]
  },
  {
   "cell_type": "code",
   "execution_count": null,
   "metadata": {},
   "outputs": [],
   "source": []
  }
 ],
 "metadata": {
  "kernelspec": {
   "display_name": "Python 3",
   "language": "python",
   "name": "python3"
  },
  "language_info": {
   "codemirror_mode": {
    "name": "ipython",
    "version": 3
   },
   "file_extension": ".py",
   "mimetype": "text/x-python",
   "name": "python",
   "nbconvert_exporter": "python",
   "pygments_lexer": "ipython3",
   "version": "3.7.6"
  }
 },
 "nbformat": 4,
 "nbformat_minor": 4
}
